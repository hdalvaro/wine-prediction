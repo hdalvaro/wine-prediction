{
 "cells": [
  {
   "cell_type": "markdown",
   "metadata": {},
   "source": [
    "<h1>Árvore de decisão </h1>"
   ]
  },
  {
   "cell_type": "markdown",
   "metadata": {},
   "source": [
    "#### Bibliotecas usadas:"
   ]
  },
  {
   "cell_type": "code",
   "execution_count": 269,
   "metadata": {
    "scrolled": true
   },
   "outputs": [],
   "source": [
    "import csv, itertools\n",
    "import numpy as np\n",
    "from sklearn.cross_validation import train_test_split\n",
    "from sklearn import tree"
   ]
  },
  {
   "cell_type": "code",
   "execution_count": 270,
   "metadata": {},
   "outputs": [],
   "source": [
    "#Vamos buscar os dados\n",
    "with open(\"winequality-red.csv\",'r') as csvfile:\n",
    "    reader = csv.reader(csvfile, delimiter=',', quotechar='\"')\n",
    "    row = next(reader)\n",
    "    nome_colunas = np.array(row) \n",
    "    visa_X = []  \n",
    "    visa_Y = []\n",
    "    i = 0;\n",
    "    for row in reader:        \n",
    "        visa_X.append(row)\n",
    "        visa_Y.append(row[11])        \n",
    "    visa_X = np.array(visa_X)\n",
    "    visa_Y = np.array(visa_Y)"
   ]
  },
  {
   "cell_type": "code",
   "execution_count": 271,
   "metadata": {},
   "outputs": [
    {
     "data": {
      "text/plain": [
       "(12,)"
      ]
     },
     "execution_count": 271,
     "metadata": {},
     "output_type": "execute_result"
    }
   ],
   "source": [
    "nome_colunas.shape"
   ]
  },
  {
   "cell_type": "code",
   "execution_count": 272,
   "metadata": {},
   "outputs": [
    {
     "data": {
      "text/plain": [
       "(1599, 12)"
      ]
     },
     "execution_count": 272,
     "metadata": {},
     "output_type": "execute_result"
    }
   ],
   "source": [
    "visa_X.shape"
   ]
  },
  {
   "cell_type": "code",
   "execution_count": 273,
   "metadata": {},
   "outputs": [
    {
     "name": "stdout",
     "output_type": "stream",
     "text": [
      "['Acidez Volátil' 'Dioxido de enxofre livre' 'Dioxido de enxofre total'\n",
      " 'Alcool']\n"
     ]
    }
   ],
   "source": [
    "#Escolhendo os atributos\n",
    "#1 - Acidez volátil\n",
    "#5 - Dioxido de enxofre livre\n",
    "#6 - Dioxido de enxofre total\n",
    "#10 - Alcool\n",
    "visa_X = visa_X[:,[1, 5, 6, 10]]\n",
    "nome_colunas = nome_colunas[[1, 5, 6, 10]]\n",
    "print(nome_colunas)"
   ]
  },
  {
   "cell_type": "code",
   "execution_count": 274,
   "metadata": {},
   "outputs": [
    {
     "data": {
      "text/plain": [
       "array(['5', '5', '5', ..., '6', '5', '6'],\n",
       "      dtype='<U1')"
      ]
     },
     "execution_count": 274,
     "metadata": {},
     "output_type": "execute_result"
    }
   ],
   "source": [
    "visa_Y"
   ]
  },
  {
   "cell_type": "code",
   "execution_count": 275,
   "metadata": {},
   "outputs": [
    {
     "data": {
      "text/plain": [
       "array([['0.7', '11.0', '34.0', '9.4'],\n",
       "       ['0.88', '25.0', '67.0', '9.8'],\n",
       "       ['0.76', '15.0', '54.0', '9.8'],\n",
       "       ..., \n",
       "       ['0.51', '29.0', '40.0', '11.0'],\n",
       "       ['645', '32.0', '44.0', '10.2'],\n",
       "       ['0.31', '18.0', '42.0', '11.0']],\n",
       "      dtype='<U20')"
      ]
     },
     "execution_count": 275,
     "metadata": {},
     "output_type": "execute_result"
    }
   ],
   "source": [
    "visa_X"
   ]
  },
  {
   "cell_type": "code",
   "execution_count": 276,
   "metadata": {
    "collapsed": true
   },
   "outputs": [],
   "source": [
    "#Training\n",
    "x_train,x_test,y_train,y_test = train_test_split(visa_X,visa_Y,\n",
    "                                                  test_size=0.3,\n",
    "                                                  random_state=22)"
   ]
  },
  {
   "cell_type": "code",
   "execution_count": 277,
   "metadata": {
    "collapsed": true
   },
   "outputs": [],
   "source": [
    "clf = tree.DecisionTreeClassifier(criterion='entropy',max_depth=4,\n",
    "                                   min_samples_leaf=5)"
   ]
  },
  {
   "cell_type": "code",
   "execution_count": 278,
   "metadata": {},
   "outputs": [],
   "source": [
    "clf = clf.fit(x_train,y_train)"
   ]
  },
  {
   "cell_type": "code",
   "execution_count": 279,
   "metadata": {},
   "outputs": [
    {
     "data": {
      "text/plain": [
       "0.5708333333333333"
      ]
     },
     "execution_count": 279,
     "metadata": {},
     "output_type": "execute_result"
    }
   ],
   "source": [
    "def accuracy(tree,x_test,y_test):\n",
    "    predict = clf.predict(x_test)\n",
    "    erro = 0.0\n",
    "    for x in range(len(predict)):\n",
    "        if predict[x] != y_test[x]:\n",
    "            erro += 1.\n",
    "    acuracy = (1-(erro/len(predict)))\n",
    "    return acuracy\n",
    "accuracy(clf,x_test,y_test)"
   ]
  },
  {
   "cell_type": "code",
   "execution_count": 280,
   "metadata": {
    "collapsed": true
   },
   "outputs": [],
   "source": [
    "#novos_casos = [[0.074, 12.0, 87.0, 0.9978],\n",
    " #             [69, 8, 15, 0.99]]"
   ]
  },
  {
   "cell_type": "code",
   "execution_count": 281,
   "metadata": {},
   "outputs": [],
   "source": [
    "#predict_novos_casos = clf.predict(novos_casos)"
   ]
  },
  {
   "cell_type": "code",
   "execution_count": 282,
   "metadata": {},
   "outputs": [],
   "source": [
    "#print(predict_novos_casos)"
   ]
  },
  {
   "cell_type": "code",
   "execution_count": null,
   "metadata": {
    "collapsed": true
   },
   "outputs": [],
   "source": []
  }
 ],
 "metadata": {
  "kernelspec": {
   "display_name": "Python 3",
   "language": "python",
   "name": "python3"
  },
  "language_info": {
   "codemirror_mode": {
    "name": "ipython",
    "version": 3
   },
   "file_extension": ".py",
   "mimetype": "text/x-python",
   "name": "python",
   "nbconvert_exporter": "python",
   "pygments_lexer": "ipython3",
   "version": "3.6.3"
  }
 },
 "nbformat": 4,
 "nbformat_minor": 2
}
